{
 "cells": [
  {
   "cell_type": "markdown",
   "metadata": {},
   "source": [
    "# Neural networks with PyTorch\n",
    "\n",
    "Deep learning networks tend to be massive with dozens or hundreds of layers, that's where the term \"deep\" comes from. You can build one of these deep networks using only weight matrices as we did in the previous notebook, but in general it's very cumbersome and difficult to implement. PyTorch has a nice module `nn` that provides a nice way to efficiently build large neural networks."
   ]
  },
  {
   "cell_type": "code",
   "execution_count": 1,
   "metadata": {},
   "outputs": [],
   "source": [
    "# Import necessary packages\n",
    "\n",
    "%matplotlib inline\n",
    "%config InlineBackend.figure_format = 'retina'\n",
    "\n",
    "import numpy as np\n",
    "import torch\n",
    "\n",
    "import helper\n",
    "\n",
    "import matplotlib.pyplot as plt"
   ]
  },
  {
   "cell_type": "markdown",
   "metadata": {},
   "source": [
    "\n",
    "Now we're going to build a larger network that can solve a (formerly) difficult problem, identifying text in an image. Here we'll use the MNIST dataset which consists of greyscale handwritten digits. Each image is 28x28 pixels, you can see a sample below\n",
    "\n",
    "<img src='assets/mnist.png'>\n",
    "\n",
    "Our goal is to build a neural network that can take one of these images and predict the digit in the image.\n",
    "\n",
    "First up, we need to get our dataset. This is provided through the `torchvision` package. The code below will download the MNIST dataset, then create training and test datasets for us. Don't worry too much about the details here, you'll learn more about this later."
   ]
  },
  {
   "cell_type": "code",
   "execution_count": 2,
   "metadata": {
    "scrolled": true
   },
   "outputs": [
    {
     "name": "stdout",
     "output_type": "stream",
     "text": [
      "Downloading file:///E:/code/deep-learning-v2-pytorch/mnist/train-images-idx3-ubyte.gz to C:\\Users\\xqian/.pytorch/MNIST_data/MNIST\\raw\\train-images-idx3-ubyte.gz\n"
     ]
    },
    {
     "name": "stderr",
     "output_type": "stream",
     "text": [
      "100.1%"
     ]
    },
    {
     "name": "stdout",
     "output_type": "stream",
     "text": [
      "Extracting C:\\Users\\xqian/.pytorch/MNIST_data/MNIST\\raw\\train-images-idx3-ubyte.gz to C:\\Users\\xqian/.pytorch/MNIST_data/MNIST\\raw\n"
     ]
    },
    {
     "name": "stderr",
     "output_type": "stream",
     "text": [
      "66.1%%"
     ]
    },
    {
     "name": "stdout",
     "output_type": "stream",
     "text": [
      "Downloading file:///E:/code/deep-learning-v2-pytorch/mnist/train-labels-idx1-ubyte.gz to C:\\Users\\xqian/.pytorch/MNIST_data/MNIST\\raw\\train-labels-idx1-ubyte.gz\n",
      "Extracting C:\\Users\\xqian/.pytorch/MNIST_data/MNIST\\raw\\train-labels-idx1-ubyte.gz to C:\\Users\\xqian/.pytorch/MNIST_data/MNIST\\raw\n",
      "Downloading file:///E:/code/deep-learning-v2-pytorch/mnist/t10k-images-idx3-ubyte.gz to C:\\Users\\xqian/.pytorch/MNIST_data/MNIST\\raw\\t10k-images-idx3-ubyte.gz\n"
     ]
    },
    {
     "name": "stderr",
     "output_type": "stream",
     "text": [
      "180.4%D:\\anaconda3\\envs\\pytorch\\lib\\site-packages\\torchvision\\datasets\\mnist.py:487: UserWarning: The given NumPy array is not writeable, and PyTorch does not support non-writeable tensors. This means you can write to the underlying (supposedly non-writeable) NumPy array using the tensor. You may want to copy the array to protect its data or make it writeable before converting it to a tensor. This type of warning will be suppressed for the rest of this program. (Triggered internally at  ..\\torch\\csrc\\utils\\tensor_numpy.cpp:141.)\n",
      "  return torch.from_numpy(parsed.astype(m[2], copy=False)).view(*s)\n"
     ]
    },
    {
     "name": "stdout",
     "output_type": "stream",
     "text": [
      "Extracting C:\\Users\\xqian/.pytorch/MNIST_data/MNIST\\raw\\t10k-images-idx3-ubyte.gz to C:\\Users\\xqian/.pytorch/MNIST_data/MNIST\\raw\n",
      "Downloading file:///E:/code/deep-learning-v2-pytorch/mnist/t10k-labels-idx1-ubyte.gz to C:\\Users\\xqian/.pytorch/MNIST_data/MNIST\\raw\\t10k-labels-idx1-ubyte.gz\n",
      "Extracting C:\\Users\\xqian/.pytorch/MNIST_data/MNIST\\raw\\t10k-labels-idx1-ubyte.gz to C:\\Users\\xqian/.pytorch/MNIST_data/MNIST\\raw\n",
      "Processing...\n",
      "Done!\n"
     ]
    }
   ],
   "source": [
    "### Run this cell\n",
    "\n",
    "from torchvision import datasets, transforms\n",
    "\n",
    "# Define a transform to normalize the data\n",
    "transform = transforms.Compose([transforms.ToTensor(),\n",
    "                              transforms.Normalize((0.5,), (0.5,)),\n",
    "                              ])\n",
    "\n",
    "# Download and load the training data\n",
    "trainset = datasets.MNIST('~/.pytorch/MNIST_data/', download=True, train=True, transform=transform)\n",
    "trainloader = torch.utils.data.DataLoader(trainset, batch_size=64, shuffle=True)"
   ]
  },
  {
   "cell_type": "markdown",
   "metadata": {},
   "source": [
    "We have the training data loaded into `trainloader` and we make that an iterator with `iter(trainloader)`. Later, we'll use this to loop through the dataset for training, like\n",
    "\n",
    "```python\n",
    "for image, label in trainloader:\n",
    "    ## do things with images and labels\n",
    "```\n",
    "\n",
    "You'll notice I created the `trainloader` with a batch size of 64, and `shuffle=True`. The batch size is the number of images we get in one iteration from the data loader and pass through our network, often called a *batch*. And `shuffle=True` tells it to shuffle the dataset every time we start going through the data loader again. But here I'm just grabbing the first batch so we can check out the data. We can see below that `images` is just a tensor with size `(64, 1, 28, 28)`. So, 64 images per batch, 1 color channel, and 28x28 images."
   ]
  },
  {
   "cell_type": "code",
   "execution_count": 3,
   "metadata": {},
   "outputs": [
    {
     "name": "stdout",
     "output_type": "stream",
     "text": [
      "<class 'torch.Tensor'>\n",
      "torch.Size([64, 1, 28, 28])\n",
      "torch.Size([64])\n"
     ]
    }
   ],
   "source": [
    "dataiter = iter(trainloader)\n",
    "images, labels = dataiter.next()\n",
    "print(type(images))\n",
    "print(images.shape)\n",
    "print(labels.shape)"
   ]
  },
  {
   "cell_type": "markdown",
   "metadata": {},
   "source": [
    "This is what one of the images looks like. "
   ]
  },
  {
   "cell_type": "code",
   "execution_count": 4,
   "metadata": {},
   "outputs": [
    {
     "data": {
      "image/png": "[encoded data removed]",
      "text/plain": [
       "<Figure size 432x288 with 1 Axes>"
      ]
     },
     "metadata": {
      "image/png": {
       "height": 248,
       "width": 251
      },
      "needs_background": "light"
     },
     "output_type": "display_data"
    }
   ],
   "source": [
    "plt.imshow(images[1].numpy().squeeze(), cmap='Greys_r');"
   ]
  },
  {
   "cell_type": "markdown",
   "metadata": {},
   "source": [
    "First, let's try to build a simple network for this dataset using weight matrices and matrix multiplications. Then, we'll see how to do it using PyTorch's `nn` module which provides a much more convenient and powerful method for defining network architectures.\n",
    "\n",
    "The networks you've seen so far are called *fully-connected* or *dense* networks. Each unit in one layer is connected to each unit in the next layer. In fully-connected networks, the input to each layer must be a one-dimensional vector (which can be stacked into a 2D tensor as a batch of multiple examples). However, our images are 28x28 2D tensors, so we need to convert them into 1D vectors. Thinking about sizes, we need to convert the batch of images with shape `(64, 1, 28, 28)` to a have a shape of `(64, 784)`, 784 is 28 times 28. This is typically called *flattening*, we flattened the 2D images into 1D vectors.\n",
    "\n",
    "Previously you built a network with one output unit. Here we need 10 output units, one for each digit. We want our network to predict the digit shown in an image, so what we'll do is calculate probabilities that the image is of any one digit or class. This ends up being a discrete probability distribution over the classes (digits) that tells us the most likely class for the image. That means we need 10 output units for the 10 classes (digits). We'll see how to convert the network output into a probability distribution next.\n",
    "\n",
    "> **Exercise:** Flatten the batch of images `images`. Then build a multi-layer network with 784 input units, 256 hidden units, and 10 output units using random tensors for the weights and biases. For now, use a sigmoid activation for the hidden layer. Leave the output layer without an activation, we'll add one that gives us a probability distribution next."
   ]
  },
  {
   "cell_type": "code",
   "execution_count": 9,
   "metadata": {},
   "outputs": [
    {
     "name": "stdout",
     "output_type": "stream",
     "text": [
      "torch.Size([64, 10])\n",
      "tensor([[ -9.6404, -15.6767, -13.4590,   7.9346,  -7.5472,  15.7993, -28.3978,\n",
      "           4.6366,  15.2130,   1.9618],\n",
      "        [-11.3672, -14.9365, -12.9816,  -0.4257,  -9.9804,  20.5274, -14.7378,\n",
      "           1.1531,  26.7684,   0.3529],\n",
      "        [ -9.9742, -11.9109,  -2.2221,   7.8072,   0.1338,  16.0777, -14.8121,\n",
      "           2.7220,  19.3673,  17.4470],\n",
      "        [ -9.5058, -11.3442,  -6.9850,   6.5404, -11.1022,  19.9259, -21.7557,\n",
      "           2.4820,  21.0446,   7.8595],\n",
      "        [-14.9961,  -9.6104,  -6.0001,   2.9295,  -8.6773,  19.5329,  -6.5701,\n",
      "          -4.3096,   9.8386,   1.1919],\n",
      "        [-13.4688,  -7.1109,  -4.7001,   4.0181,   3.5770,  11.3966, -18.5772,\n",
      "           2.2426,  17.1146,   8.5262],\n",
      "        [ -4.9393, -14.6574,  -7.8343,   8.9666,  -9.8431,  24.1301, -22.4216,\n",
      "           3.3354,  14.6105,   5.7189],\n",
      "        [ -7.5457, -14.5042,  -5.2251,   4.5735,  -6.7977,   5.6285, -17.5065,\n",
      "           7.3176,   7.8321,   8.0118],\n",
      "        [ -5.4415,  -9.8681, -18.5232,   3.7271,  -2.1559,  13.1204, -18.5702,\n",
      "          -2.1126,  20.0586,   1.2532],\n",
      "        [ -8.9938, -14.3326, -10.5805,   4.7447,  -0.1931,  14.6094, -13.4977,\n",
      "           2.1916,  25.0273,  -1.8929],\n",
      "        [ -5.0387, -10.7763,  -6.4979,  -4.4189,  -2.4976,  22.8945, -19.6137,\n",
      "           3.8418,  19.1329,  10.5553],\n",
      "        [ -5.2303, -20.3194,  -4.6130,   0.6100, -12.0417,   6.3754, -17.6901,\n",
      "           5.7055,  25.8306,  11.5623],\n",
      "        [ -8.4454, -12.8049,  -9.8346,  -0.5289,  -7.6105,   9.1973, -19.1078,\n",
      "           0.8891,  18.7812,   2.7459],\n",
      "        [ -9.9102, -20.9024, -18.2350,   9.8641, -11.4361,  18.3112, -27.7075,\n",
      "           0.6942,  22.5480,   5.8913],\n",
      "        [-15.8321,  -7.1219,  -5.6142,   1.3891,  -0.0910,  20.6008, -18.1262,\n",
      "           3.1594,  18.7182,  11.3033],\n",
      "        [-11.8574, -11.1556, -11.2032,   2.1983,  -7.2125,  13.2225, -14.8240,\n",
      "           3.4791,  22.2340,   3.9593],\n",
      "        [ -7.2576, -10.2205,   1.1010,   2.2358,  -5.2667,  15.8918, -17.4759,\n",
      "          -1.2218,  14.2451,  10.3966],\n",
      "        [ -8.7730,  -8.4714,  -7.9308,   5.0377,  -5.4320,  20.1435, -28.0328,\n",
      "           1.9189,  11.8990,  11.1186],\n",
      "        [-18.2997, -14.8456, -15.6213,  -2.6261,  -9.8051,   5.9369, -10.2415,\n",
      "           5.4891,  16.4546,  -0.5490],\n",
      "        [ -1.8231, -12.8973,  -5.3745,  -7.2298,  -2.4308,  10.4592, -13.0471,\n",
      "          10.6541,  18.8394,   3.8971],\n",
      "        [ -8.3332, -20.5822,  -8.7966,   0.9024,  -3.4480,   5.5591, -21.7394,\n",
      "           9.5535,  18.9504,  14.9054],\n",
      "        [ -0.3191, -21.2326,   2.6669,   5.5230,  -0.9315,  12.2667, -15.0764,\n",
      "           8.9240,  14.9053,  22.6585],\n",
      "        [-10.5754,  -5.9886,   1.7182,   3.9025,   1.3577,  23.6901, -14.8839,\n",
      "          -2.9845,  11.0404,   9.4136],\n",
      "        [ -5.5668,  -6.5438,  -1.3346,   4.6308,  -3.3812,  17.4149, -27.3263,\n",
      "           5.3151,  20.2386,  10.1829],\n",
      "        [-10.7959, -14.7483, -11.8353,  -1.4949,  -0.2023,  13.5545, -14.7993,\n",
      "          13.3076,  19.6220,   9.4050],\n",
      "        [-10.5396,  -4.6711,  -8.1933,  -1.7700,  -0.7866,  17.4443, -20.2541,\n",
      "           4.9253,  19.4145,  -5.6859],\n",
      "        [ -3.5971,  -9.9782,  -0.7912,  -1.8599,  -2.2848,  15.1307, -16.5829,\n",
      "           7.5788,  19.8810,  13.0489],\n",
      "        [ -4.8895,  -9.4247, -16.5159,  10.7596,   0.3731,  14.8981, -20.0222,\n",
      "           1.4980,  19.6757,   7.1872],\n",
      "        [-12.2048, -13.1193,  -1.0622,   2.8093,  -6.9827,  16.5195, -20.1000,\n",
      "           3.4313,  13.9669,   6.3169],\n",
      "        [ -4.2445,  -8.6464, -11.6898,  -3.3968,  -1.8582,  14.7810, -21.8720,\n",
      "           5.1780,  13.1603,  11.1098],\n",
      "        [ -7.5283, -17.0648,  -7.2790,   5.9377,  -4.1149,  18.5150, -26.8672,\n",
      "           1.8062,  18.9480,   3.4281],\n",
      "        [ -2.1912, -12.4795,  -9.9233,   2.9335,  -6.8869,  15.5260, -13.1556,\n",
      "           4.2641,  22.1093,  -3.4740],\n",
      "        [ -3.1389, -15.2560, -15.9925,   6.2121,  -4.4593,  12.6131, -13.8916,\n",
      "           5.9747,  19.9176,   0.8173],\n",
      "        [ -9.0736, -12.0300,  -4.7471,   2.7619,  -2.2963,  19.0875, -22.6662,\n",
      "          -0.2469,  14.9684,   5.5388],\n",
      "        [ -9.3430,  -9.1898,  -7.6177,  -2.6590,  -9.6248,   8.0414, -13.5171,\n",
      "           3.7960,  13.8912,   9.0362],\n",
      "        [ -4.0209, -20.8619,   1.6514,  -4.6955,  -0.6069,  19.3793, -16.9664,\n",
      "           2.8345,  20.7189,   4.3085],\n",
      "        [ -8.6738,  -8.9321,   0.8024,   5.9509,   8.8641,  10.6174,  -8.6642,\n",
      "           3.5110,   8.5873,  12.2977],\n",
      "        [-11.0986,  -9.4272,  -7.7639,  -3.4963, -10.5367,  22.1610, -20.0647,\n",
      "           1.4233,  17.1343,   7.2387],\n",
      "        [-13.1196,  -8.8481,   8.6140,   3.9319,  -6.5738,   7.0016, -23.3300,\n",
      "           4.0076,  11.3695,   4.3014],\n",
      "        [-10.6442, -23.5169, -11.0332,  -0.5240,  -5.2461,  13.0233, -15.5897,\n",
      "           4.1539,  19.4792,   7.5875],\n",
      "        [-15.6019, -15.8811,  -9.0643,   5.4364,  -0.6840,   3.5202,  -8.2623,\n",
      "          10.8527,  17.8046,   2.8280],\n",
      "        [-12.6103,  -3.4307, -20.0355,  -0.8521,  -3.8466,  18.4461, -11.4032,\n",
      "           6.5775,  19.4433,  -4.9883],\n",
      "        [ -5.0231,  -5.6288,  -1.5874, -10.0155,   0.7316,  11.1787,  -5.5855,\n",
      "           2.6418,  22.5912,   9.5979],\n",
      "        [  0.7458, -22.2317, -13.5657,   2.9753,  -1.9347,  14.3479, -16.0772,\n",
      "           6.4343,  17.0529,   5.7176],\n",
      "        [ -9.8673,  -3.9896,  -1.4625,  -4.6270,  -0.5544,  10.7380, -18.3188,\n",
      "           1.1379,  16.8234,  13.9118],\n",
      "        [ -7.6629, -17.6055,  -2.5047,   1.0442,  -4.9106,  12.2332, -17.0666,\n",
      "           3.8756,  22.8395,  16.4770],\n",
      "        [-12.6364, -21.3180, -12.4256,  14.8900,  -8.2958,  27.9234, -23.3128,\n",
      "           3.6916,  19.4477,   1.9933],\n",
      "        [-10.7315,  -9.1484,  -8.1883, -12.1961,  -0.5771,   3.5559,  -6.3641,\n",
      "           1.2434,  14.6275,   8.9606],\n",
      "        [ -3.8466,  -4.5333,  -2.5765,  -8.5484,  -5.8496,  21.8971,  -9.3699,\n",
      "          -1.5474,  23.7715,   1.1587],\n",
      "        [-10.0142, -17.0992,  -4.0854,   5.6852, -15.6393,  13.9454, -14.1806,\n",
      "           4.3971,  20.9644,   5.5817],\n",
      "        [-13.8504, -14.1206, -14.4615,   1.0877,   4.0370,  16.8185,  -9.8008,\n",
      "           2.4484,  12.4788,   2.1208],\n",
      "        [-10.1051,  -3.4355,  -4.5581,   2.2889,  -4.7048,  13.3541, -12.8640,\n",
      "           2.4862,  23.4705,   3.9145],\n",
      "        [ -6.7722,  -4.4876,  -6.2149,   9.8655,  -2.3279,  14.8496, -25.1963,\n",
      "           3.3786,  16.5409,   5.9081],\n",
      "        [ -5.8960,  -7.0537,  -6.6454,  -0.4859,  -2.1732,  20.0631, -15.4589,\n",
      "           2.0394,  16.2020,   4.0885],\n",
      "        [ -8.4568, -14.4022,  -3.2744,  -5.4372,   0.4869,  13.3381, -15.6139,\n",
      "           6.3716,  16.6616,  10.9382],\n",
      "        [-13.1853,  -5.1051,  -2.0425,   9.6696,   3.5747,   4.9629, -19.5247,\n",
      "          11.8299,  16.8191,   7.0743],\n",
      "        [-12.4587,  -6.9630,   6.3679,   4.2880,   1.0585,   7.3308,  -5.2101,\n",
      "          11.4498,  18.4360,  10.5953],\n",
      "        [ -8.6883, -15.4648,  -7.0910,  -0.4264,   5.6496,  24.5228, -21.1373,\n",
      "           7.4054,  21.9856,  14.1005],\n",
      "        [-11.3522, -10.2547,  -4.1343,  -2.0765,  -0.4857,  12.5674, -27.5475,\n",
      "           6.6039,  13.7279,   9.1165],\n",
      "        [-16.1257,  -5.6725,  -1.4172,   9.9717,  -5.2811,  17.7602, -16.8329,\n",
      "           1.3103,  12.9327,   7.2956],\n",
      "        [ -7.8426,  -8.4405,  -3.7661, -12.2953,  -9.3984,   8.4306, -11.0948,\n",
      "          -0.5585,  20.1560,   9.0798],\n",
      "        [ -6.7481, -17.5872,  -7.2004,   0.0552,  -7.6461,  11.3386, -23.2672,\n",
      "           6.1318,  13.2645,  13.6544],\n",
      "        [-11.6469,  -3.1168, -17.1956,  -3.3247,   9.4156,  17.2635, -20.7332,\n",
      "           6.3270,  12.8587,   7.1676],\n",
      "        [-10.9507,  -8.7751,  -7.1188,  -1.3233,  -3.3242,  10.7007, -20.6801,\n",
      "           6.0542,  14.7629,   8.1010]])\n"
     ]
    }
   ],
   "source": [
    "## Your solution\n",
    "def sigmoid(x):\n",
    "    return 1 / (1+torch.exp(-x))\n",
    "\n",
    "data = images.view(images.shape[0], -1)\n",
    "n_input = data.shape[1]\n",
    "n_hidden = 256\n",
    "n_output = 10\n",
    "\n",
    "w_input_hidden = torch.randn(n_input, n_hidden)\n",
    "w_hidden_output = torch.randn(n_hidden, n_output)\n",
    "hidden_bias = torch.randn(n_hidden)\n",
    "output_bias = torch.randn(n_output)\n",
    "\n",
    "h = sigmoid(torch.mm(data, w_input_hidden) + hidden_bias)\n",
    "out = torch.mm(h, w_hidden_output) + output_bias\n",
    "\n",
    "# output of your network, should have shape (64,10)\n",
    "print(out.shape)\n",
    "print(out)"
   ]
  },
  {
   "cell_type": "markdown",
   "metadata": {},
   "source": [
    "Now we have 10 outputs for our network. We want to pass in an image to our network and get out a probability distribution over the classes that tells us the likely class(es) the image belongs to. Something that looks like this:\n",
    "<img src='assets/image_distribution.png' width=500px>\n",
    "\n",
    "Here we see that the probability for each class is roughly the same. This is representing an untrained network, it hasn't seen any data yet so it just returns a uniform distribution with equal probabilities for each class.\n",
    "\n",
    "To calculate this probability distribution, we often use the [**softmax** function](https://en.wikipedia.org/wiki/Softmax_function). Mathematically this looks like\n",
    "\n",
    "$$\n",
    "\\Large \\sigma(x_i) = \\cfrac{e^{x_i}}{\\sum_k^K{e^{x_k}}}\n",
    "$$\n",
    "\n",
    "What this does is squish each input $x_i$ between 0 and 1 and normalizes the values to give you a proper probability distribution where the probabilites sum up to one.\n",
    "\n",
    "> **Exercise:** Implement a function `softmax` that performs the softmax calculation and returns probability distributions for each example in the batch. Note that you'll need to pay attention to the shapes when doing this. If you have a tensor `a` with shape `(64, 10)` and a tensor `b` with shape `(64,)`, doing `a/b` will give you an error because PyTorch will try to do the division across the columns (called broadcasting) but you'll get a size mismatch. The way to think about this is for each of the 64 examples, you only want to divide by one value, the sum in the denominator. So you need `b` to have a shape of `(64, 1)`. This way PyTorch will divide the 10 values in each row of `a` by the one value in each row of `b`. Pay attention to how you take the sum as well. You'll need to define the `dim` keyword in `torch.sum`. Setting `dim=0` takes the sum across the rows while `dim=1` takes the sum across the columns."
   ]
  },
  {
   "cell_type": "code",
   "execution_count": 29,
   "metadata": {},
   "outputs": [
    {
     "name": "stdout",
     "output_type": "stream",
     "text": [
      "torch.Size([64, 10])\n",
      "tensor([1.0000, 1.0000, 1.0000, 1.0000, 1.0000, 1.0000, 1.0000, 1.0000, 1.0000,\n",
      "        1.0000, 1.0000, 1.0000, 1.0000, 1.0000, 1.0000, 1.0000, 1.0000, 1.0000,\n",
      "        1.0000, 1.0000, 1.0000, 1.0000, 1.0000, 1.0000, 1.0000, 1.0000, 1.0000,\n",
      "        1.0000, 1.0000, 1.0000, 1.0000, 1.0000, 1.0000, 1.0000, 1.0000, 1.0000,\n",
      "        1.0000, 1.0000, 1.0000, 1.0000, 1.0000, 1.0000, 1.0000, 1.0000, 1.0000,\n",
      "        1.0000, 1.0000, 1.0000, 1.0000, 1.0000, 1.0000, 1.0000, 1.0000, 1.0000,\n",
      "        1.0000, 1.0000, 1.0000, 1.0000, 1.0000, 1.0000, 1.0000, 1.0000, 1.0000,\n",
      "        1.0000])\n"
     ]
    }
   ],
   "source": [
    "def softmax(x):\n",
    "    ## TODO: Implement the softmax function here\n",
    "    numerator = torch.exp(x)\n",
    "    denominator = torch.sum(numerator, dim=1).view(-1, 1)\n",
    "    return numerator / denominator\n",
    "\n",
    "# Here, out should be the output of the network in the previous excercise with shape (64,10)\n",
    "probabilities = softmax(out)\n",
    "\n",
    "# Does it have the right shape? Should be (64, 10)\n",
    "print(probabilities.shape)\n",
    "# Does it sum to 1?\n",
    "print(probabilities.sum(dim=1))"
   ]
  },
  {
   "cell_type": "markdown",
   "metadata": {},
   "source": [
    "## Building networks with PyTorch\n",
    "\n",
    "PyTorch provides a module `nn` that makes building networks much simpler. Here I'll show you how to build the same one as above with 784 inputs, 256 hidden units, 10 output units and a softmax output."
   ]
  },
  {
   "cell_type": "code",
   "execution_count": 30,
   "metadata": {},
   "outputs": [],
   "source": [
    "from torch import nn"
   ]
  },
  {
   "cell_type": "code",
   "execution_count": 31,
   "metadata": {},
   "outputs": [],
   "source": [
    "class Network(nn.Module):\n",
    "    def __init__(self):\n",
    "        super().__init__()\n",
    "        \n",
    "        # Inputs to hidden layer linear transformation\n",
    "        self.hidden = nn.Linear(784, 256)\n",
    "        # Output layer, 10 units - one for each digit\n",
    "        self.output = nn.Linear(256, 10)\n",
    "        \n",
    "        # Define sigmoid activation and softmax output \n",
    "        self.sigmoid = nn.Sigmoid()\n",
    "        self.softmax = nn.Softmax(dim=1)\n",
    "        \n",
    "    def forward(self, x):\n",
    "        # Pass the input tensor through each of our operations\n",
    "        x = self.hidden(x)\n",
    "        x = self.sigmoid(x)\n",
    "        x = self.output(x)\n",
    "        x = self.softmax(x)\n",
    "        \n",
    "        return x"
   ]
  },
  {
   "cell_type": "markdown",
   "metadata": {},
   "source": [
    "Let's go through this bit by bit.\n",
    "\n",
    "```python\n",
    "class Network(nn.Module):\n",
    "```\n",
    "\n",
    "Here we're inheriting from `nn.Module`. Combined with `super().__init__()` this creates a class that tracks the architecture and provides a lot of useful methods and attributes. It is mandatory to inherit from `nn.Module` when you're creating a class for your network. The name of the class itself can be anything.\n",
    "\n",
    "```python\n",
    "self.hidden = nn.Linear(784, 256)\n",
    "```\n",
    "\n",
    "This line creates a module for a linear transformation, $x\\mathbf{W} + b$, with 784 inputs and 256 outputs and assigns it to `self.hidden`. The module automatically creates the weight and bias tensors which we'll use in the `forward` method. You can access the weight and bias tensors once the network (`net`) is created with `net.hidden.weight` and `net.hidden.bias`.\n",
    "\n",
    "```python\n",
    "self.output = nn.Linear(256, 10)\n",
    "```\n",
    "\n",
    "Similarly, this creates another linear transformation with 256 inputs and 10 outputs.\n",
    "\n",
    "```python\n",
    "self.sigmoid = nn.Sigmoid()\n",
    "self.softmax = nn.Softmax(dim=1)\n",
    "```\n",
    "\n",
    "Here I defined operations for the sigmoid activation and softmax output. Setting `dim=1` in `nn.Softmax(dim=1)` calculates softmax across the columns.\n",
    "\n",
    "```python\n",
    "def forward(self, x):\n",
    "```\n",
    "\n",
    "PyTorch networks created with `nn.Module` must have a `forward` method defined. It takes in a tensor `x` and passes it through the operations you defined in the `__init__` method.\n",
    "\n",
    "```python\n",
    "x = self.hidden(x)\n",
    "x = self.sigmoid(x)\n",
    "x = self.output(x)\n",
    "x = self.softmax(x)\n",
    "```\n",
    "\n",
    "Here the input tensor `x` is passed through each operation and reassigned to `x`. We can see that the input tensor goes through the hidden layer, then a sigmoid function, then the output layer, and finally the softmax function. It doesn't matter what you name the variables here, as long as the inputs and outputs of the operations match the network architecture you want to build. The order in which you define things in the `__init__` method doesn't matter, but you'll need to sequence the operations correctly in the `forward` method.\n",
    "\n",
    "Now we can create a `Network` object."
   ]
  },
  {
   "cell_type": "code",
   "execution_count": 32,
   "metadata": {},
   "outputs": [
    {
     "data": {
      "text/plain": [
       "Network(\n",
       "  (hidden): Linear(in_features=784, out_features=256, bias=True)\n",
       "  (output): Linear(in_features=256, out_features=10, bias=True)\n",
       "  (sigmoid): Sigmoid()\n",
       "  (softmax): Softmax(dim=1)\n",
       ")"
      ]
     },
     "execution_count": 32,
     "metadata": {},
     "output_type": "execute_result"
    }
   ],
   "source": [
    "# Create the network and look at it's text representation\n",
    "model = Network()\n",
    "model"
   ]
  },
  {
   "cell_type": "markdown",
   "metadata": {},
   "source": [
    "You can define the network somewhat more concisely and clearly using the `torch.nn.functional` module. This is the most common way you'll see networks defined as many operations are simple element-wise functions. We normally import this module as `F`, `import torch.nn.functional as F`."
   ]
  },
  {
   "cell_type": "code",
   "execution_count": 33,
   "metadata": {},
   "outputs": [],
   "source": [
    "import torch.nn.functional as F\n",
    "\n",
    "class Network(nn.Module):\n",
    "    def __init__(self):\n",
    "        super().__init__()\n",
    "        # Inputs to hidden layer linear transformation\n",
    "        self.hidden = nn.Linear(784, 256)\n",
    "        # Output layer, 10 units - one for each digit\n",
    "        self.output = nn.Linear(256, 10)\n",
    "        \n",
    "    def forward(self, x):\n",
    "        # Hidden layer with sigmoid activation\n",
    "        x = F.sigmoid(self.hidden(x))\n",
    "        # Output layer with softmax activation\n",
    "        x = F.softmax(self.output(x), dim=1)\n",
    "        \n",
    "        return x"
   ]
  },
  {
   "cell_type": "markdown",
   "metadata": {},
   "source": [
    "### Activation functions\n",
    "\n",
    "So far we've only been looking at the sigmoid activation function, but in general any function can be used as an activation function. The only requirement is that for a network to approximate a non-linear function, the activation functions must be non-linear. Here are a few more examples of common activation functions: Tanh (hyperbolic tangent), and ReLU (rectified linear unit).\n",
    "\n",
    "<img src=\"assets/activation.png\" width=700px>\n",
    "\n",
    "In practice, the ReLU function is used almost exclusively as the activation function for hidden layers."
   ]
  },
  {
   "cell_type": "markdown",
   "metadata": {},
   "source": [
    "### Your Turn to Build a Network\n",
    "\n",
    "<img src=\"assets/mlp_mnist.png\" width=600px>\n",
    "\n",
    "> **Exercise:** Create a network with 784 input units, a hidden layer with 128 units and a ReLU activation, then a hidden layer with 64 units and a ReLU activation, and finally an output layer with a softmax activation as shown above. You can use a ReLU activation with the `nn.ReLU` module or `F.relu` function.\n",
    "\n",
    "It's good practice to name your layers by their type of network, for instance 'fc' to represent a fully-connected layer. As you code your solution, use `fc1`, `fc2`, and `fc3` as your layer names."
   ]
  },
  {
   "cell_type": "code",
   "execution_count": 45,
   "metadata": {
    "scrolled": true
   },
   "outputs": [
    {
     "data": {
      "text/plain": [
       "MyNetwork(\n",
       "  (fc1): Linear(in_features=784, out_features=128, bias=True)\n",
       "  (fc2): Linear(in_features=128, out_features=64, bias=True)\n",
       "  (fc3): Linear(in_features=64, out_features=10, bias=True)\n",
       ")"
      ]
     },
     "execution_count": 45,
     "metadata": {},
     "output_type": "execute_result"
    }
   ],
   "source": [
    "## Your solution here\n",
    "class MyNetwork(nn.Module):\n",
    "    def __init__(self):\n",
    "        super().__init__()\n",
    "        \n",
    "        self.fc1 = nn.Linear(784, 128)\n",
    "        self.fc2 = nn.Linear(128, 64)\n",
    "        self.fc3 = nn.Linear(64, 10)\n",
    "        \n",
    "    def forward(self, x):\n",
    "        x = self.fc1(x)\n",
    "        x = F.relu(x)\n",
    "        x = self.fc2(x)\n",
    "        x = F.relu(x)\n",
    "        x = self.fc3(x)\n",
    "        x = F.softmax(x, dim=1)\n",
    "        \n",
    "        return x\n",
    "    \n",
    "model = MyNetwork()\n",
    "model"
   ]
  },
  {
   "cell_type": "markdown",
   "metadata": {},
   "source": [
    "### Initializing weights and biases\n",
    "\n",
    "The weights and such are automatically initialized for you, but it's possible to customize how they are initialized. The weights and biases are tensors attached to the layer you defined, you can get them with `model.fc1.weight` for instance."
   ]
  },
  {
   "cell_type": "code",
   "execution_count": 39,
   "metadata": {},
   "outputs": [
    {
     "name": "stdout",
     "output_type": "stream",
     "text": [
      "Parameter containing:\n",
      "tensor([[ 0.0278, -0.0230, -0.0123,  ..., -0.0208, -0.0170, -0.0227],\n",
      "        [ 0.0276,  0.0075, -0.0081,  ..., -0.0316,  0.0156, -0.0322],\n",
      "        [ 0.0128, -0.0094,  0.0277,  ...,  0.0302,  0.0214,  0.0141],\n",
      "        ...,\n",
      "        [ 0.0266, -0.0328, -0.0296,  ..., -0.0124,  0.0112, -0.0103],\n",
      "        [-0.0344, -0.0203, -0.0138,  ...,  0.0012, -0.0185, -0.0180],\n",
      "        [ 0.0125, -0.0038, -0.0074,  ..., -0.0175,  0.0290,  0.0344]],\n",
      "       requires_grad=True)\n",
      "Parameter containing:\n",
      "tensor([-2.1684e-02,  2.4797e-02, -2.2690e-02, -2.4671e-02, -7.6052e-03,\n",
      "         1.6142e-02,  2.3112e-03,  2.0649e-02,  3.0775e-02, -1.1617e-02,\n",
      "         2.3580e-02, -2.4091e-02, -3.1283e-02, -1.8055e-02, -3.2680e-02,\n",
      "        -1.1046e-02,  1.8166e-02,  1.6903e-02,  2.6937e-02,  1.3236e-02,\n",
      "        -8.6457e-03, -1.5858e-02,  2.6115e-02,  3.2051e-02,  3.5325e-02,\n",
      "        -1.2512e-02, -3.2083e-02,  2.5803e-03, -2.9962e-02,  1.9481e-02,\n",
      "         4.1214e-03, -2.7211e-03, -1.4323e-02, -2.8501e-02,  1.6103e-02,\n",
      "         1.4264e-02, -3.4879e-02, -2.6831e-02,  2.0575e-02,  3.1316e-03,\n",
      "         1.5777e-02, -1.8094e-02,  1.4707e-02, -2.8944e-02, -1.6370e-02,\n",
      "         2.5717e-02, -4.7045e-03,  3.2938e-02, -7.6076e-03, -4.6099e-03,\n",
      "         1.3121e-02, -2.7844e-02, -3.3511e-02, -1.2908e-02, -7.4863e-04,\n",
      "         2.7712e-02, -6.6690e-03, -2.9702e-02,  2.6415e-02,  3.3920e-02,\n",
      "         1.2917e-03, -2.3359e-02, -2.9769e-02,  3.0874e-02,  1.2313e-02,\n",
      "         9.3417e-03,  2.6566e-03, -2.0309e-02,  3.0889e-02,  3.1604e-02,\n",
      "         2.3211e-02,  2.5326e-02, -1.8946e-02, -3.4068e-02, -2.4522e-02,\n",
      "         2.8733e-02, -2.9766e-02, -5.7510e-03, -3.2508e-02,  1.5481e-02,\n",
      "         4.0845e-03,  8.3134e-03, -2.6082e-02, -3.9719e-03, -3.4964e-02,\n",
      "         3.1397e-03, -1.7587e-02, -1.8344e-02, -1.0805e-02,  2.8505e-02,\n",
      "         1.4490e-02, -2.3337e-02,  2.6583e-02,  8.1472e-06, -2.3223e-02,\n",
      "        -3.0915e-02, -1.8213e-02,  3.2746e-02,  3.9569e-03, -3.1814e-02,\n",
      "         1.9036e-02,  1.7228e-02, -1.2823e-02,  2.3667e-02,  1.3097e-02,\n",
      "         2.8474e-02, -2.4739e-02, -1.9285e-02, -5.4792e-03,  1.7138e-02,\n",
      "        -2.6978e-02,  1.0985e-02,  1.8233e-02, -2.7930e-02, -2.4231e-02,\n",
      "         3.0998e-02, -2.4763e-02, -1.8706e-02, -1.5556e-02, -2.6621e-02,\n",
      "         3.3227e-02, -3.4794e-02,  1.5908e-02,  2.0391e-02,  2.9897e-02,\n",
      "         2.8385e-02, -5.5736e-03,  2.2221e-02], requires_grad=True)\n"
     ]
    }
   ],
   "source": [
    "print(model.fc1.weight)\n",
    "print(model.fc1.bias)"
   ]
  },
  {
   "cell_type": "markdown",
   "metadata": {},
   "source": [
    "For custom initialization, we want to modify these tensors in place. These are actually autograd *Variables*, so we need to get back the actual tensors with `model.fc1.weight.data`. Once we have the tensors, we can fill them with zeros (for biases) or random normal values."
   ]
  },
  {
   "cell_type": "code",
   "execution_count": 40,
   "metadata": {},
   "outputs": [
    {
     "data": {
      "text/plain": [
       "tensor([0., 0., 0., 0., 0., 0., 0., 0., 0., 0., 0., 0., 0., 0., 0., 0., 0., 0., 0., 0., 0., 0., 0., 0.,\n",
       "        0., 0., 0., 0., 0., 0., 0., 0., 0., 0., 0., 0., 0., 0., 0., 0., 0., 0., 0., 0., 0., 0., 0., 0.,\n",
       "        0., 0., 0., 0., 0., 0., 0., 0., 0., 0., 0., 0., 0., 0., 0., 0., 0., 0., 0., 0., 0., 0., 0., 0.,\n",
       "        0., 0., 0., 0., 0., 0., 0., 0., 0., 0., 0., 0., 0., 0., 0., 0., 0., 0., 0., 0., 0., 0., 0., 0.,\n",
       "        0., 0., 0., 0., 0., 0., 0., 0., 0., 0., 0., 0., 0., 0., 0., 0., 0., 0., 0., 0., 0., 0., 0., 0.,\n",
       "        0., 0., 0., 0., 0., 0., 0., 0.])"
      ]
     },
     "execution_count": 40,
     "metadata": {},
     "output_type": "execute_result"
    }
   ],
   "source": [
    "# Set biases to all zeros\n",
    "model.fc1.bias.data.fill_(0)"
   ]
  },
  {
   "cell_type": "code",
   "execution_count": 41,
   "metadata": {},
   "outputs": [
    {
     "data": {
      "text/plain": [
       "tensor([[-0.0031, -0.0150, -0.0152,  ...,  0.0019, -0.0077, -0.0080],\n",
       "        [-0.0080,  0.0228,  0.0018,  ..., -0.0003, -0.0083,  0.0015],\n",
       "        [ 0.0023,  0.0072,  0.0026,  ..., -0.0108,  0.0075, -0.0041],\n",
       "        ...,\n",
       "        [ 0.0149, -0.0185,  0.0204,  ...,  0.0025, -0.0097, -0.0014],\n",
       "        [ 0.0135, -0.0114,  0.0038,  ...,  0.0109,  0.0107, -0.0107],\n",
       "        [-0.0118, -0.0145,  0.0111,  ...,  0.0019,  0.0163, -0.0226]])"
      ]
     },
     "execution_count": 41,
     "metadata": {},
     "output_type": "execute_result"
    }
   ],
   "source": [
    "# sample from random normal with standard dev = 0.01\n",
    "model.fc1.weight.data.normal_(std=0.01)"
   ]
  },
  {
   "cell_type": "markdown",
   "metadata": {},
   "source": [
    "### Forward pass\n",
    "\n",
    "Now that we have a network, let's see what happens when we pass in an image."
   ]
  },
  {
   "cell_type": "code",
   "execution_count": 42,
   "metadata": {},
   "outputs": [
    {
     "data": {
      "image/png": "[encoded data removed]",
      "text/plain": [
       "<Figure size 432x648 with 2 Axes>"
      ]
     },
     "metadata": {
      "image/png": {
       "height": 235,
       "width": 424
      },
      "needs_background": "light"
     },
     "output_type": "display_data"
    }
   ],
   "source": [
    "# Grab some data \n",
    "dataiter = iter(trainloader)\n",
    "images, labels = dataiter.next()\n",
    "\n",
    "# Resize images into a 1D vector, new shape is (batch size, color channels, image pixels) \n",
    "images.resize_(64, 1, 784)\n",
    "# or images.resize_(images.shape[0], 1, 784) to automatically get batch size\n",
    "\n",
    "# Forward pass through the network\n",
    "img_idx = 0\n",
    "ps = model.forward(images[img_idx,:])\n",
    "\n",
    "img = images[img_idx]\n",
    "helper.view_classify(img.view(1, 28, 28), ps)"
   ]
  },
  {
   "cell_type": "markdown",
   "metadata": {},
   "source": [
    "As you can see above, our network has basically no idea what this digit is. It's because we haven't trained it yet, all the weights are random!\n",
    "\n",
    "### Using `nn.Sequential`\n",
    "\n",
    "PyTorch provides a convenient way to build networks like this where a tensor is passed sequentially through operations, `nn.Sequential` ([documentation](https://pytorch.org/docs/master/nn.html#torch.nn.Sequential)). Using this to build the equivalent network:"
   ]
  },
  {
   "cell_type": "code",
   "execution_count": 47,
   "metadata": {},
   "outputs": [
    {
     "name": "stdout",
     "output_type": "stream",
     "text": [
      "Sequential(\n",
      "  (0): Linear(in_features=784, out_features=128, bias=True)\n",
      "  (1): ReLU()\n",
      "  (2): Linear(in_features=128, out_features=64, bias=True)\n",
      "  (3): ReLU()\n",
      "  (4): Linear(in_features=64, out_features=10, bias=True)\n",
      "  (5): Softmax(dim=1)\n",
      ")\n"
     ]
    },
    {
     "data": {
      "image/png": "[encoded data removed]",
      "text/plain": [
       "<Figure size 432x648 with 2 Axes>"
      ]
     },
     "metadata": {
      "image/png": {
       "height": 235,
       "width": 424
      },
      "needs_background": "light"
     },
     "output_type": "display_data"
    }
   ],
   "source": [
    "# Hyperparameters for our network\n",
    "input_size = 784\n",
    "hidden_sizes = [128, 64]\n",
    "output_size = 10\n",
    "\n",
    "# Build a feed-forward network\n",
    "model = nn.Sequential(nn.Linear(input_size, hidden_sizes[0]),\n",
    "                      nn.ReLU(),\n",
    "                      nn.Linear(hidden_sizes[0], hidden_sizes[1]),\n",
    "                      nn.ReLU(),\n",
    "                      nn.Linear(hidden_sizes[1], output_size),\n",
    "                      nn.Softmax(dim=1))\n",
    "print(model)\n",
    "\n",
    "# Forward pass through the network and display output\n",
    "images, labels = next(iter(trainloader))\n",
    "images.resize_(images.shape[0], 1, 784)\n",
    "ps = model.forward(images[0,:])\n",
    "helper.view_classify(images[0].view(1, 28, 28), ps)"
   ]
  },
  {
   "cell_type": "markdown",
   "metadata": {},
   "source": [
    "Here our model is the same as before: 784 input units, a hidden layer with 128 units, ReLU activation, 64 unit hidden layer, another ReLU, then the output layer with 10 units, and the softmax output.\n",
    "\n",
    "The operations are available by passing in the appropriate index. For example, if you want to get first Linear operation and look at the weights, you'd use `model[0]`."
   ]
  },
  {
   "cell_type": "code",
   "execution_count": 48,
   "metadata": {},
   "outputs": [
    {
     "name": "stdout",
     "output_type": "stream",
     "text": [
      "Linear(in_features=784, out_features=128, bias=True)\n"
     ]
    },
    {
     "data": {
      "text/plain": [
       "Parameter containing:\n",
       "tensor([[ 0.0058, -0.0339, -0.0045,  ..., -0.0347,  0.0162,  0.0286],\n",
       "        [-0.0069, -0.0017, -0.0069,  ...,  0.0248, -0.0004, -0.0129],\n",
       "        [ 0.0352, -0.0202, -0.0048,  ...,  0.0311, -0.0095, -0.0243],\n",
       "        ...,\n",
       "        [-0.0083, -0.0251,  0.0222,  ..., -0.0155, -0.0203, -0.0222],\n",
       "        [ 0.0004,  0.0058,  0.0138,  ..., -0.0037, -0.0120, -0.0279],\n",
       "        [ 0.0110, -0.0149,  0.0140,  ..., -0.0125,  0.0082,  0.0115]],\n",
       "       requires_grad=True)"
      ]
     },
     "execution_count": 48,
     "metadata": {},
     "output_type": "execute_result"
    }
   ],
   "source": [
    "print(model[0])\n",
    "model[0].weight"
   ]
  },
  {
   "cell_type": "markdown",
   "metadata": {},
   "source": [
    "You can also pass in an `OrderedDict` to name the individual layers and operations, instead of using incremental integers. Note that dictionary keys must be unique, so _each operation must have a different name_."
   ]
  },
  {
   "cell_type": "code",
   "execution_count": 49,
   "metadata": {},
   "outputs": [
    {
     "data": {
      "text/plain": [
       "Sequential(\n",
       "  (fc1): Linear(in_features=784, out_features=128, bias=True)\n",
       "  (relu1): ReLU()\n",
       "  (fc2): Linear(in_features=128, out_features=64, bias=True)\n",
       "  (relu2): ReLU()\n",
       "  (output): Linear(in_features=64, out_features=10, bias=True)\n",
       "  (softmax): Softmax(dim=1)\n",
       ")"
      ]
     },
     "execution_count": 49,
     "metadata": {},
     "output_type": "execute_result"
    }
   ],
   "source": [
    "from collections import OrderedDict\n",
    "model = nn.Sequential(OrderedDict([\n",
    "                      ('fc1', nn.Linear(input_size, hidden_sizes[0])),\n",
    "                      ('relu1', nn.ReLU()),\n",
    "                      ('fc2', nn.Linear(hidden_sizes[0], hidden_sizes[1])),\n",
    "                      ('relu2', nn.ReLU()),\n",
    "                      ('output', nn.Linear(hidden_sizes[1], output_size)),\n",
    "                      ('softmax', nn.Softmax(dim=1))]))\n",
    "model"
   ]
  },
  {
   "cell_type": "markdown",
   "metadata": {},
   "source": [
    "Now you can access layers either by integer or the name"
   ]
  },
  {
   "cell_type": "code",
   "execution_count": 50,
   "metadata": {},
   "outputs": [
    {
     "name": "stdout",
     "output_type": "stream",
     "text": [
      "Linear(in_features=784, out_features=128, bias=True)\n",
      "Linear(in_features=784, out_features=128, bias=True)\n"
     ]
    }
   ],
   "source": [
    "print(model[0])\n",
    "print(model.fc1)"
   ]
  },
  {
   "cell_type": "markdown",
   "metadata": {},
   "source": [
    "In the next notebook, we'll see how we can train a neural network to accuractly predict the numbers appearing in the MNIST images."
   ]
  }
 ],
 "metadata": {
  "kernelspec": {
   "display_name": "Python 3",
   "language": "python",
   "name": "python3"
  },
  "language_info": {
   "codemirror_mode": {
    "name": "ipython",
    "version": 3
   },
   "file_extension": ".py",
   "mimetype": "text/x-python",
   "name": "python",
   "nbconvert_exporter": "python",
   "pygments_lexer": "ipython3",
   "version": "3.8.5"
  }
 },
 "nbformat": 4,
 "nbformat_minor": 2
}
